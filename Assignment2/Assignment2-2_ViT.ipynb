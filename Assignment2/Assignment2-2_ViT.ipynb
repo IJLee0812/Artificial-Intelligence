{
 "cells": [
  {
   "cell_type": "markdown",
   "metadata": {},
   "source": [
    "# 2150188401(2) Artificial Intelligence Assignment #2-2<br> Training Vision Transformers (PyTorch)"
   ]
  },
  {
   "cell_type": "markdown",
   "metadata": {},
   "source": [
    "Copyright (C) Computer Science & Engineering, Soongsil University. This material is for educational uses only. Some contents are based on the material provided by other paper/book authors and may be copyrighted by them. Written by Haneul Pyeon, September 2024."
   ]
  },
  {
   "cell_type": "markdown",
   "metadata": {},
   "source": [
    "**For understanding of this work, please carefully look at given PDF file.**\n",
    "\n",
    "Now, you're going to leave behind your implementations and instead migrate to one of popular deep learning frameworks, **PyTorch**. <br>\n",
    "In this notebook, you will learn to understand and build the basic components of Vision Tranformer(ViT). Then, you will try to classify images in the FashionMNIST datatset and explore the effects of different components of ViTs.\n",
    "<br>\n",
    "There are **2 sections**, and in each section, you need to follow the instructions to complete the skeleton codes and explain them.\n",
    "\n",
    "**Note**: certain details are missing or ambiguous on purpose, in order to test your knowledge on the related materials. However, if you really feel that something essential is missing and cannot proceed to the next step, then contact the teaching staff with clear description of your problem.\n",
    "\n",
    "### Submitting your work:\n",
    "<font color=red>**DO NOT clear the final outputs**</font> so that TAs can grade both your code and results. \n",
    "\n",
    "### Some helpful tutorials and references for assignment #2-2:\n",
    "- [1] Pytorch official documentation. [[link]](https://pytorch.org/docs/stable/index.html)\n",
    "- [2] Stanford CS231n lectures. [[link]](http://cs231n.stanford.edu/)\n",
    "- [3] Alexey Dosovitskiy et al., \"An Image is Worth 16 x 16 Words: Transformers for Image Recognition at Scale\", ICLR 2021. [[pdf]](https://arxiv.org/pdf/2010.11929.pdf)"
   ]
  },
  {
   "cell_type": "markdown",
   "metadata": {},
   "source": [
    "## 1. Building Vision Transformer\n",
    "Here, you will build the basic components of Vision Transformer(ViT). <br>\n",
    "\n",
    "![Vision Transformer](imgs/ViT.png)\n",
    "\n",
    "Using the explanation and code provided as guidance, <br>\n",
    "Define each component of ViT. <br>\n",
    "\n",
    "\n",
    "#### ViT architecture:\n",
    "* ViT model consists with input patch embedding, positional embeddings, transformer encoder, etc.\n",
    "* Patch embedding\n",
    "* Positional embeddings\n",
    "* Transformer encoder with\n",
    "    * Attention module\n",
    "    * MLP module"
   ]
  },
  {
   "cell_type": "code",
   "execution_count": 1,
   "metadata": {},
   "outputs": [],
   "source": [
    "import torch\n",
    "import torch.nn as nn"
   ]
  },
  {
   "cell_type": "markdown",
   "metadata": {},
   "source": [
    "##### Patch Embed\n",
    "\n",
    "**Initialization**: When you create an instance of the PatchEmbedding class, you specify the image_size, patch_size, and in_channels. image_size is the height and width of the input image, patch_size is the size of each patch, and in_channels is the number of input image channels (e.g., 3 for RGB images). \n",
    "\n",
    "**Convolutional Projection**: Inside the PatchEmbedding class, a 2D convolutional layer (nn.Conv2d) is used to perform a patch-based projection. This convolutional layer has a kernel size of patch_size, which defines the size of each patch, and a stride of patch_size, which ensures that patches do not overlap. The convolutional layer effectively extracts image patches.\n",
    "\n",
    "**Reshaping**: After the convolutional projection, the output tensor is reshaped using view. It is transformed from a 4D tensor with dimensions (batch_size, in_channels, H, W) to a 3D tensor with dimensions (batch_size, num_patches, patch_dim). num_patches is the total number of non-overlapping patches in the image, and patch_dim is the number of output channels from the convolutional layer."
   ]
  },
  {
   "cell_type": "code",
   "execution_count": 2,
   "metadata": {},
   "outputs": [],
   "source": [
    "class PatchEmbed(nn.Module):\n",
    "    \"\"\" Image to Patch Embedding\n",
    "    \"\"\"\n",
    "\n",
    "    def __init__(self, img_size=224, patch_size=16, in_chans=3, embed_dim=768):\n",
    "        super().__init__()\n",
    "        num_patches = (img_size // patch_size) * (img_size // patch_size)\n",
    "        self.img_size = img_size\n",
    "        self.patch_size = patch_size\n",
    "        self.num_patches = num_patches\n",
    "\n",
    "        ##############################################################################\n",
    "        #                           IMPLEMENT YOUR CODE                              #\n",
    "        ##############################################################################\n",
    "\n",
    "        self.proj = nn.Conv2d(in_chans, embed_dim, kernel_size = patch_size, stride = patch_size)\n",
    "\n",
    "        ##############################################################################\n",
    "        #                              END YOUR CODE                                 #\n",
    "        ##############################################################################\n",
    "    def forward(self, x):\n",
    "        ##############################################################################\n",
    "        #                           IMPLEMENT YOUR CODE                              #\n",
    "        ##############################################################################\n",
    "\n",
    "        B, C, H, W = x.shape\n",
    "        x = self.proj(x).flatten(2).transpose(1, 2)\n",
    "\n",
    "        ##############################################################################\n",
    "        #                              END YOUR CODE                                 #\n",
    "        ##############################################################################\n",
    "        return x # output dimension must be: (batch size, number of patches, embed_dim)"
   ]
  },
  {
   "cell_type": "markdown",
   "metadata": {},
   "source": [
    "##### Attention\n",
    "\n",
    "**Initialization**\n",
    "* dim: The input dimension of the sequence. This is the dimensionality of the queries, keys, and values.\n",
    "* num_heads: The number of attention heads to use. Multi-head attention allows the model to focus on different parts of the input simultaneously.\n",
    "\n",
    "**Linear Projections (qkv and proj)**: The qkv linear layer takes the input sequence and projects it into three parts: queries (q), keys (k), and values (v). The output of this layer has a shape of (batch_size, sequence_length, 3 * dim).\n",
    "\n",
    "**Forward Pass (forward method)**: In the forward pass, the input tensor x is processed through the attention mechanism. Here's what happens:<br>\n",
    "* The linear projection qkv is applied to x, producing a tensor of shape (batch_size, sequence_length, 3 * dim).|\n",
    "* This tensor is reshaped to have dimensions (batch_size, sequence_length, 3, num_heads, head_dim). The permute operation rearranges the dimensions to (3, batch_size, num_heads, sequence_length, head_dim), making it suitable for multi-head attention.\n",
    "* The three parts, q, k, and v, are extracted from the reshaped tensor.\n",
    "* The attention scores are computed by taking the dot product of queries q and keys k. The result is scaled by self.scale.\n",
    "* The attention scores are passed through a softmax activation along the last dimension (sequence_length), producing attention weights.\n",
    "* The weighted sum of values v is computed using the attention weights.\n",
    "* The result is transposed and reshaped to its original shape, and then passed through the proj linear layer.\n",
    "* The final output is returned."
   ]
  },
  {
   "cell_type": "code",
   "execution_count": 3,
   "metadata": {},
   "outputs": [],
   "source": [
    "class Attention(nn.Module):\n",
    "    def __init__(self, dim, num_heads=8):\n",
    "        super().__init__()\n",
    "        self.num_heads = num_heads\n",
    "        head_dim = dim // num_heads\n",
    "        self.scale = head_dim ** -0.5\n",
    "\n",
    "        self.qkv = nn.Linear(dim, dim * 3)\n",
    "        self.proj = nn.Linear(dim, dim)\n",
    "\n",
    "    def forward(self, x):\n",
    "        B, N, C = x.shape\n",
    "        ##############################################################################\n",
    "        #                           IMPLEMENT YOUR CODE                              #\n",
    "        ##############################################################################\n",
    "\n",
    "        qkv = self.qkv(x).reshape(B, N, 3, self.num_heads, C // self.num_heads)\n",
    "        q, k, v = qkv[:, :, 0], qkv[:, :, 1], qkv[:, :, 2]\n",
    "\n",
    "        q = q.transpose(1, 2)\n",
    "        k = k.transpose(1, 2)\n",
    "        v = v.transpose(1, 2)\n",
    "\n",
    "        attn = (q @ k.transpose(-2, -1)) * self.scale\n",
    "        attn = attn.softmax(dim = -1)\n",
    "\n",
    "        ##############################################################################\n",
    "        #                              END YOUR CODE                                 #\n",
    "        ##############################################################################\n",
    "\n",
    "        x = (attn @ v).transpose(1, 2).reshape(B, N, C) # Vector Matrix Multiply\n",
    "        x = self.proj(x)\n",
    "        \n",
    "        return x # output dimension must be: (batch size, number of patches, embed_dim)"
   ]
  },
  {
   "cell_type": "markdown",
   "metadata": {},
   "source": [
    "##### MLP\n",
    "\n",
    "The MLP module must consist of three layers:\n",
    "* fully conncted layer 1\n",
    "* activation layer\n",
    "* fully conncted layer 2"
   ]
  },
  {
   "cell_type": "code",
   "execution_count": 4,
   "metadata": {},
   "outputs": [],
   "source": [
    "class Mlp(nn.Module):\n",
    "    def __init__(self, in_features, hidden_features=None, out_features=None, act_layer=nn.GELU):\n",
    "        super().__init__()\n",
    "        out_features = out_features or in_features\n",
    "        hidden_features = hidden_features or in_features\n",
    "\n",
    "        ##############################################################################\n",
    "        #                           IMPLEMENT YOUR CODE                              #\n",
    "        ##############################################################################\n",
    "\n",
    "        self.fc1 = nn.Linear(in_features, hidden_features)\n",
    "        self.act = act_layer() # GELU\n",
    "        self.fc2 = nn.Linear(hidden_features, out_features)\n",
    "\n",
    "        ##############################################################################\n",
    "        #                              END YOUR CODE                                 #\n",
    "        ##############################################################################\n",
    "\n",
    "    def forward(self, x):\n",
    "        ##############################################################################\n",
    "        #                           IMPLEMENT YOUR CODE                              #\n",
    "        ##############################################################################\n",
    "\n",
    "        x = self.fc1(x)\n",
    "        x = self.act(x)\n",
    "        x = self.fc2(x)\n",
    "\n",
    "        ##############################################################################\n",
    "        #                              END YOUR CODE                                 #\n",
    "        ##############################################################################\n",
    "        return x # output dimension must be: (batch size, number of patches, out_features)\n"
   ]
  },
  {
   "cell_type": "markdown",
   "metadata": {},
   "source": [
    "##### Transformer Block\n",
    "The transformer block contains the attention module and MLP module which have residual connections. \n",
    "Refer to the following image and build the forward pass.\n",
    "\n",
    "![Transformer Block](imgs/TransformerBlock.png)"
   ]
  },
  {
   "cell_type": "code",
   "execution_count": 5,
   "metadata": {},
   "outputs": [],
   "source": [
    "class Block(nn.Module):\n",
    "    def __init__(self, dim, num_heads, mlp_ratio=4., act_layer=nn.GELU, norm_layer=nn.LayerNorm):\n",
    "        super().__init__()\n",
    "        self.norm1 = norm_layer(dim)\n",
    "        self.attn = Attention(dim, num_heads=num_heads)\n",
    "        self.norm2 = norm_layer(dim)\n",
    "        mlp_hidden_dim = int(dim * mlp_ratio)\n",
    "        self.mlp = Mlp(in_features=dim, hidden_features=mlp_hidden_dim,\n",
    "                       act_layer=act_layer)\n",
    "\n",
    "    def forward(self, x):\n",
    "        ##############################################################################\n",
    "        #                           IMPLEMENT YOUR CODE                              #\n",
    "        ##############################################################################\n",
    "\n",
    "        # 1. Residual connection for \"Attention\"\n",
    "        x = x + self.attn(self.norm1(x))\n",
    "\n",
    "        # 2. Residual connection for MLP\n",
    "        x = x + self.mlp(self.norm2(x))\n",
    "\n",
    "        ##############################################################################\n",
    "        #                              END YOUR CODE                                 #\n",
    "        ##############################################################################\n",
    "        return x\n"
   ]
  },
  {
   "cell_type": "markdown",
   "metadata": {},
   "source": [
    "##### Vision Transformer\n",
    "\n",
    "Using all the components that you built above, **complete** the vision transformer class."
   ]
  },
  {
   "cell_type": "markdown",
   "metadata": {},
   "source": [
    "### torch.cat\n",
    "\n",
    "Concatenates the given sequence of tensors along the specified dimension. All tensors must either have the same shape (except in the concatenating dimension) or be a 1-D empty tensor with size (0,).\n",
    "\n",
    "`torch.cat()` can be seen as an inverse operation for `torch.split()` and `torch.chunk()`.\n",
    "\n",
    "`torch.cat()` can be best understood via examples."
   ]
  },
  {
   "cell_type": "markdown",
   "metadata": {},
   "source": [
    "#### Parameters\n",
    "\n",
    "- **tensors** (sequence of Tensors): any Python sequence of tensors of the same type. Non-empty tensors provided must have the same shape, except in the concatenating dimension.\n",
    "\n",
    "- **dim** (int, optional): the dimension over which the tensors are concatenated.\n",
    "\n",
    "#### Keyword Arguments\n",
    "\n",
    "- **out** (Tensor, optional): the output tensor."
   ]
  },
  {
   "cell_type": "code",
   "execution_count": 6,
   "metadata": {},
   "outputs": [
    {
     "data": {
      "text/plain": [
       "tensor([[ 0.5463,  0.3333,  0.3193],\n",
       "        [ 0.7136, -1.1470, -0.6931]])"
      ]
     },
     "execution_count": 6,
     "metadata": {},
     "output_type": "execute_result"
    }
   ],
   "source": [
    "# example\n",
    "x = torch.randn(2, 3)\n",
    "x"
   ]
  },
  {
   "cell_type": "code",
   "execution_count": 7,
   "metadata": {},
   "outputs": [
    {
     "data": {
      "text/plain": [
       "tensor([[ 0.5463,  0.3333,  0.3193],\n",
       "        [ 0.7136, -1.1470, -0.6931],\n",
       "        [ 0.5463,  0.3333,  0.3193],\n",
       "        [ 0.7136, -1.1470, -0.6931],\n",
       "        [ 0.5463,  0.3333,  0.3193],\n",
       "        [ 0.7136, -1.1470, -0.6931]])"
      ]
     },
     "execution_count": 7,
     "metadata": {},
     "output_type": "execute_result"
    }
   ],
   "source": [
    "exam1 = torch.cat((x, x, x), 0)\n",
    "exam1"
   ]
  },
  {
   "cell_type": "code",
   "execution_count": 8,
   "metadata": {},
   "outputs": [
    {
     "data": {
      "text/plain": [
       "tensor([[ 0.5463,  0.3333,  0.3193,  0.5463,  0.3333,  0.3193,  0.5463,  0.3333,\n",
       "          0.3193],\n",
       "        [ 0.7136, -1.1470, -0.6931,  0.7136, -1.1470, -0.6931,  0.7136, -1.1470,\n",
       "         -0.6931]])"
      ]
     },
     "execution_count": 8,
     "metadata": {},
     "output_type": "execute_result"
    }
   ],
   "source": [
    "exam2 = torch.cat((x, x, x), 1)\n",
    "exam2"
   ]
  },
  {
   "cell_type": "code",
   "execution_count": 9,
   "metadata": {},
   "outputs": [],
   "source": [
    "class VisionTransformer(nn.Module):\n",
    "    \"\"\" Vision Transformer \"\"\"\n",
    "\n",
    "    def __init__(self, img_size=28, patch_size=4, in_chans=1, num_classes=10, embed_dim=768, depth=12,\n",
    "                 num_heads=12, mlp_ratio=4., norm_layer=nn.LayerNorm, ):\n",
    "        super().__init__()\n",
    "        self.num_features = self.embed_dim = embed_dim\n",
    "        self.num_heads = num_heads\n",
    "        self.depth = depth\n",
    "\n",
    "        self.patch_embed = PatchEmbed(\n",
    "            img_size=img_size, patch_size=patch_size, in_chans=in_chans, embed_dim=embed_dim)\n",
    "        num_patches = self.patch_embed.num_patches\n",
    "\n",
    "        self.cls_token = nn.Parameter(torch.zeros(1, 1, embed_dim))\n",
    "        ##############################################################################\n",
    "        #                           IMPLEMENT YOUR CODE                              #\n",
    "        ############################################################################## \n",
    "        # similarly to cls_token, define a learnable positional embedding that matches the patchified input token size.\n",
    "        self.pos_embed = nn.Parameter(torch.zeros(1, num_patches + 1, embed_dim))\n",
    "\n",
    "        ##############################################################################\n",
    "        #                              END YOUR CODE                                 #\n",
    "        ##############################################################################\n",
    "\n",
    "        self.blocks = nn.ModuleList([\n",
    "            Block(\n",
    "                dim=embed_dim, num_heads=num_heads, mlp_ratio=mlp_ratio,  norm_layer=norm_layer)\n",
    "            for i in range(depth)])\n",
    "        self.norm = norm_layer(embed_dim)\n",
    "\n",
    "        # Classifier head\n",
    "        self.head = nn.Linear(\n",
    "            embed_dim, num_classes) if num_classes > 0 else nn.Identity()\n",
    "\n",
    "    def forward(self, x):\n",
    "        ##############################################################################\n",
    "        #                           IMPLEMENT YOUR CODE                              #\n",
    "        ##############################################################################\n",
    "        B = x.shape[0]\n",
    "        \n",
    "        # Patch Embedding\n",
    "        x = self.patch_embed(x)\n",
    "        \n",
    "        # Concatenate class tokens to patch embedding\n",
    "        cls_tokens = self.cls_token.expand(B, -1, -1)\n",
    "        x = torch.cat((cls_tokens, x), dim = 1)\n",
    "\n",
    "        # Add positional embedding to patches\n",
    "        x = x + self.pos_embed \n",
    "\n",
    "        # Forward through encoder blocks\n",
    "        for blk in self.blocks:\n",
    "            x = blk(x)\n",
    "\n",
    "        # Use class token for classification\n",
    "        x = self.norm(x)\n",
    "        cls_token_final = x[:, 0]  # Shape: (B, embed_dim)\n",
    "\n",
    "        # Classifier head\n",
    "        x = self.head(cls_token_final)  # Shape: (B, num_classes)\n",
    "\n",
    "        ##############################################################################\n",
    "        #                              END YOUR CODE                                 #\n",
    "        ##############################################################################\n",
    "        return x"
   ]
  },
  {
   "cell_type": "markdown",
   "metadata": {},
   "source": [
    "## 2. Training a small ViT model on FashionMNIST dataset.\n",
    "\n",
    "Define and Train a vision transformer on FashionMNIST dataset. **(You must reach above 85% for full points.)** <br>\n",
    "Train with at least 5 different hyperparameter settings varying the following ViT hyperparameters. \n",
    "Report the setting for the best performance.\n",
    "\n",
    "#### ViT hyperparameters:\n",
    "* patch_size\n",
    "* embed_dim\n",
    "* depth\n",
    "* num_heads\n",
    "* mlp_ratio\n",
    "* etc.\n"
   ]
  },
  {
   "cell_type": "code",
   "execution_count": 12,
   "metadata": {},
   "outputs": [],
   "source": [
    "import numpy as np\n",
    "\n",
    "from tqdm import tqdm, trange\n",
    "\n",
    "import torch\n",
    "import torch.nn as nn\n",
    "from torch.optim import AdamW\n",
    "from torch.nn import CrossEntropyLoss\n",
    "from torch.utils.data import DataLoader\n",
    "import matplotlib.pyplot as plt\n",
    "from torchvision.transforms import ToTensor\n",
    "from torchvision.datasets.mnist import FashionMNIST"
   ]
  },
  {
   "cell_type": "code",
   "execution_count": 13,
   "metadata": {},
   "outputs": [
    {
     "name": "stdout",
     "output_type": "stream",
     "text": [
      "Using device:  cpu \n"
     ]
    },
    {
     "name": "stderr",
     "output_type": "stream",
     "text": [
      "Training:   4%|▍         | 1/25 [03:01<1:12:27, 181.16s/it]"
     ]
    },
    {
     "name": "stdout",
     "output_type": "stream",
     "text": [
      "Epoch 1/25 loss: 0.75\n",
      "New best model at epoch 1 with loss 0.7539\n"
     ]
    },
    {
     "name": "stderr",
     "output_type": "stream",
     "text": [
      "Training:   8%|▊         | 2/25 [06:06<1:10:26, 183.75s/it]"
     ]
    },
    {
     "name": "stdout",
     "output_type": "stream",
     "text": [
      "Epoch 2/25 loss: 0.47\n",
      "New best model at epoch 2 with loss 0.4715\n"
     ]
    },
    {
     "name": "stderr",
     "output_type": "stream",
     "text": [
      "Training:  12%|█▏        | 3/25 [09:15<1:08:14, 186.11s/it]"
     ]
    },
    {
     "name": "stdout",
     "output_type": "stream",
     "text": [
      "Epoch 3/25 loss: 0.42\n",
      "New best model at epoch 3 with loss 0.4187\n"
     ]
    },
    {
     "name": "stderr",
     "output_type": "stream",
     "text": [
      "Training:  16%|█▌        | 4/25 [12:26<1:05:50, 188.10s/it]"
     ]
    },
    {
     "name": "stdout",
     "output_type": "stream",
     "text": [
      "Epoch 4/25 loss: 0.39\n",
      "New best model at epoch 4 with loss 0.3879\n"
     ]
    },
    {
     "name": "stderr",
     "output_type": "stream",
     "text": [
      "Training:  20%|██        | 5/25 [15:36<1:02:52, 188.62s/it]"
     ]
    },
    {
     "name": "stdout",
     "output_type": "stream",
     "text": [
      "Epoch 5/25 loss: 0.37\n",
      "New best model at epoch 5 with loss 0.3700\n"
     ]
    },
    {
     "name": "stderr",
     "output_type": "stream",
     "text": [
      "Training:  24%|██▍       | 6/25 [18:52<1:00:35, 191.33s/it]"
     ]
    },
    {
     "name": "stdout",
     "output_type": "stream",
     "text": [
      "Epoch 6/25 loss: 0.36\n",
      "New best model at epoch 6 with loss 0.3557\n"
     ]
    },
    {
     "name": "stderr",
     "output_type": "stream",
     "text": [
      "Training:  28%|██▊       | 7/25 [22:09<57:54, 193.05s/it]  "
     ]
    },
    {
     "name": "stdout",
     "output_type": "stream",
     "text": [
      "Epoch 7/25 loss: 0.34\n",
      "New best model at epoch 7 with loss 0.3435\n"
     ]
    },
    {
     "name": "stderr",
     "output_type": "stream",
     "text": [
      "Training:  32%|███▏      | 8/25 [25:47<56:57, 201.04s/it]"
     ]
    },
    {
     "name": "stdout",
     "output_type": "stream",
     "text": [
      "Epoch 8/25 loss: 0.34\n",
      "New best model at epoch 8 with loss 0.3390\n"
     ]
    },
    {
     "name": "stderr",
     "output_type": "stream",
     "text": [
      "Training:  36%|███▌      | 9/25 [29:38<56:04, 210.30s/it]"
     ]
    },
    {
     "name": "stdout",
     "output_type": "stream",
     "text": [
      "Epoch 9/25 loss: 0.34\n",
      "New best model at epoch 9 with loss 0.3359\n"
     ]
    },
    {
     "name": "stderr",
     "output_type": "stream",
     "text": [
      "Training:  40%|████      | 10/25 [33:48<55:40, 222.72s/it]"
     ]
    },
    {
     "name": "stdout",
     "output_type": "stream",
     "text": [
      "Epoch 10/25 loss: 0.33\n",
      "New best model at epoch 10 with loss 0.3285\n"
     ]
    },
    {
     "name": "stderr",
     "output_type": "stream",
     "text": [
      "Training:  44%|████▍     | 11/25 [37:24<51:25, 220.43s/it]"
     ]
    },
    {
     "name": "stdout",
     "output_type": "stream",
     "text": [
      "Epoch 11/25 loss: 0.32\n",
      "New best model at epoch 11 with loss 0.3227\n"
     ]
    },
    {
     "name": "stderr",
     "output_type": "stream",
     "text": [
      "Training:  48%|████▊     | 12/25 [41:12<48:18, 222.96s/it]"
     ]
    },
    {
     "name": "stdout",
     "output_type": "stream",
     "text": [
      "Epoch 12/25 loss: 0.32\n",
      "New best model at epoch 12 with loss 0.3187\n"
     ]
    },
    {
     "name": "stderr",
     "output_type": "stream",
     "text": [
      "Training:  52%|█████▏    | 13/25 [44:57<44:40, 223.35s/it]"
     ]
    },
    {
     "name": "stdout",
     "output_type": "stream",
     "text": [
      "Epoch 13/25 loss: 0.31\n",
      "New best model at epoch 13 with loss 0.3108\n"
     ]
    },
    {
     "name": "stderr",
     "output_type": "stream",
     "text": [
      "Training:  56%|█████▌    | 14/25 [48:40<40:56, 223.28s/it]"
     ]
    },
    {
     "name": "stdout",
     "output_type": "stream",
     "text": [
      "Epoch 14/25 loss: 0.31\n",
      "New best model at epoch 14 with loss 0.3085\n"
     ]
    },
    {
     "name": "stderr",
     "output_type": "stream",
     "text": [
      "Training:  60%|██████    | 15/25 [52:16<36:52, 221.22s/it]"
     ]
    },
    {
     "name": "stdout",
     "output_type": "stream",
     "text": [
      "Epoch 15/25 loss: 0.31\n",
      "New best model at epoch 15 with loss 0.3052\n"
     ]
    },
    {
     "name": "stderr",
     "output_type": "stream",
     "text": [
      "Training:  64%|██████▍   | 16/25 [55:52<32:55, 219.55s/it]"
     ]
    },
    {
     "name": "stdout",
     "output_type": "stream",
     "text": [
      "Epoch 16/25 loss: 0.29\n",
      "New best model at epoch 16 with loss 0.2929\n"
     ]
    },
    {
     "name": "stderr",
     "output_type": "stream",
     "text": [
      "Training:  68%|██████▊   | 17/25 [59:26<29:02, 217.87s/it]"
     ]
    },
    {
     "name": "stdout",
     "output_type": "stream",
     "text": [
      "Epoch 17/25 loss: 0.29\n",
      "New best model at epoch 17 with loss 0.2852\n"
     ]
    },
    {
     "name": "stderr",
     "output_type": "stream",
     "text": [
      "Training:  72%|███████▏  | 18/25 [1:02:53<25:03, 214.75s/it]"
     ]
    },
    {
     "name": "stdout",
     "output_type": "stream",
     "text": [
      "Epoch 18/25 loss: 0.29\n",
      "No improvement in loss for 1 epochs.\n"
     ]
    },
    {
     "name": "stderr",
     "output_type": "stream",
     "text": [
      "Training:  76%|███████▌  | 19/25 [1:06:14<21:03, 210.51s/it]"
     ]
    },
    {
     "name": "stdout",
     "output_type": "stream",
     "text": [
      "Epoch 19/25 loss: 0.28\n",
      "New best model at epoch 19 with loss 0.2817\n"
     ]
    },
    {
     "name": "stderr",
     "output_type": "stream",
     "text": [
      "Training:  80%|████████  | 20/25 [1:09:40<17:25, 209.20s/it]"
     ]
    },
    {
     "name": "stdout",
     "output_type": "stream",
     "text": [
      "Epoch 20/25 loss: 0.28\n",
      "New best model at epoch 20 with loss 0.2764\n"
     ]
    },
    {
     "name": "stderr",
     "output_type": "stream",
     "text": [
      "Training:  84%|████████▍ | 21/25 [1:13:20<14:10, 212.52s/it]"
     ]
    },
    {
     "name": "stdout",
     "output_type": "stream",
     "text": [
      "Epoch 21/25 loss: 0.28\n",
      "No improvement in loss for 1 epochs.\n"
     ]
    },
    {
     "name": "stderr",
     "output_type": "stream",
     "text": [
      "Training:  88%|████████▊ | 22/25 [1:17:18<11:00, 220.03s/it]"
     ]
    },
    {
     "name": "stdout",
     "output_type": "stream",
     "text": [
      "Epoch 22/25 loss: 0.27\n",
      "New best model at epoch 22 with loss 0.2719\n"
     ]
    },
    {
     "name": "stderr",
     "output_type": "stream",
     "text": [
      "Training:  92%|█████████▏| 23/25 [1:21:11<07:27, 223.87s/it]"
     ]
    },
    {
     "name": "stdout",
     "output_type": "stream",
     "text": [
      "Epoch 23/25 loss: 0.27\n",
      "New best model at epoch 23 with loss 0.2678\n"
     ]
    },
    {
     "name": "stderr",
     "output_type": "stream",
     "text": [
      "Training:  96%|█████████▌| 24/25 [1:24:50<03:42, 222.66s/it]"
     ]
    },
    {
     "name": "stdout",
     "output_type": "stream",
     "text": [
      "Epoch 24/25 loss: 0.26\n",
      "New best model at epoch 24 with loss 0.2622\n"
     ]
    },
    {
     "name": "stderr",
     "output_type": "stream",
     "text": [
      "Training: 100%|██████████| 25/25 [1:28:29<00:00, 212.40s/it]\n"
     ]
    },
    {
     "name": "stdout",
     "output_type": "stream",
     "text": [
      "Epoch 25/25 loss: 0.26\n",
      "New best model at epoch 25 with loss 0.2558\n",
      "Best model saved with loss 0.2558\n"
     ]
    },
    {
     "data": {
      "image/png": "[encoded data removed]",
      "text/plain": [
       "<Figure size 640x480 with 1 Axes>"
      ]
     },
     "metadata": {},
     "output_type": "display_data"
    },
    {
     "name": "stderr",
     "output_type": "stream",
     "text": [
      "Testing: 100%|██████████| 79/79 [00:13<00:00,  5.68it/s]"
     ]
    },
    {
     "name": "stdout",
     "output_type": "stream",
     "text": [
      "Test loss: 0.36\n",
      "Test accuracy: 86.71%\n",
      "Training complete.\n"
     ]
    },
    {
     "name": "stderr",
     "output_type": "stream",
     "text": [
      "\n"
     ]
    }
   ],
   "source": [
    "def Train():\n",
    "    ##############################################################################\n",
    "    #                           IMPLEMENT YOUR CODE                              #\n",
    "    ##############################################################################\n",
    "\n",
    "    patch_size = 8\n",
    "    embed_dim = 360\n",
    "    depth = 8\n",
    "    num_heads = 12 # make sure embed_dim is divisible by num_heads!\n",
    "    mlp_ratio = 4.0\n",
    "\n",
    "    ##############################################################################\n",
    "    #                              END YOUR CODE                                 #\n",
    "    ##############################################################################\n",
    "\n",
    "    # Loading data\n",
    "    transform = ToTensor()\n",
    "\n",
    "    train_set = FashionMNIST(root='./data', train=True, download=True, transform=transform)\n",
    "    test_set = FashionMNIST(root='./data', train=False, download=True, transform=transform)\n",
    "\n",
    "    train_loader = DataLoader(train_set, shuffle=True, batch_size=128)\n",
    "    test_loader = DataLoader(test_set, shuffle=False, batch_size=128)\n",
    "\n",
    "    # Defining model and training options\n",
    "    device = torch.device(\"cuda\" if torch.cuda.is_available() else \"cpu\")\n",
    "    print(\"Using device: \", device, f\"({torch.cuda.get_device_name(device)})\" if torch.cuda.is_available() else \"\")\n",
    "\n",
    "    model = VisionTransformer(patch_size=patch_size, embed_dim=embed_dim, depth=depth, num_heads=num_heads, mlp_ratio=mlp_ratio).to(device)\n",
    "    model_path = './vit.pth'\n",
    "    N_EPOCHS = 25\n",
    "    LR = 0.0005\n",
    "    early_stopping_patience = 3  # Early stopping patience (number of epochs with no improvement)\n",
    "    min_loss = np.inf\n",
    "    patience_counter = 0\n",
    "    train_loss_history = []  # To store train losses for graph\n",
    "    best_model_state = None\n",
    "\n",
    "    # Training loop\n",
    "    optimizer = AdamW(model.parameters(), lr = LR, weight_decay = 5e-3)\n",
    "    criterion = CrossEntropyLoss()\n",
    "\n",
    "    for epoch in trange(N_EPOCHS, desc=\"Training\"):\n",
    "        model.train()\n",
    "        train_loss = 0.0\n",
    "        for batch in tqdm(train_loader, desc=f\"Epoch {epoch + 1} in training\", leave=False):\n",
    "            x, y = batch\n",
    "            x, y = x.to(device), y.to(device)\n",
    "            y_hat = model(x)\n",
    "            loss = criterion(y_hat, y)\n",
    "\n",
    "            train_loss += loss.detach().cpu().item() / len(train_loader)\n",
    "\n",
    "            optimizer.zero_grad()\n",
    "            loss.backward()\n",
    "            optimizer.step()\n",
    "\n",
    "        train_loss_history.append(train_loss)\n",
    "        print(f\"Epoch {epoch + 1}/{N_EPOCHS} loss: {train_loss:.2f}\")\n",
    "\n",
    "        # Early stopping check\n",
    "        if train_loss < min_loss:\n",
    "            min_loss = train_loss\n",
    "            patience_counter = 0\n",
    "            best_model_state = model.state_dict()\n",
    "            print(f'New best model at epoch {epoch + 1} with loss {min_loss:.4f}')\n",
    "        else:\n",
    "            patience_counter += 1\n",
    "            print(f'No improvement in loss for {patience_counter} epochs.')\n",
    "\n",
    "        if patience_counter >= early_stopping_patience:\n",
    "            print(f\"Early stopping at epoch {epoch + 1}\")\n",
    "            break\n",
    "\n",
    "    # Save the best model after training\n",
    "    if best_model_state is not None:\n",
    "        torch.save(best_model_state, model_path)\n",
    "        print(f'Best model saved with loss {min_loss:.4f}')\n",
    "\n",
    "    # Plotting the training loss\n",
    "    plt.plot(range(1, len(train_loss_history) + 1), train_loss_history, label='Train Loss')\n",
    "    plt.xlabel('Epoch')\n",
    "    plt.ylabel('Loss')\n",
    "    plt.title('Training Loss per Epoch')\n",
    "    plt.legend()\n",
    "    plt.show()\n",
    "\n",
    "    # Test loop\n",
    "    model.load_state_dict(torch.load(model_path))  # Load the best model before testing\n",
    "    model.eval()\n",
    "    with torch.no_grad():\n",
    "        correct, total = 0, 0\n",
    "        test_loss = 0.0\n",
    "        for batch in tqdm(test_loader, desc=\"Testing\"):\n",
    "            x, y = batch\n",
    "            x, y = x.to(device), y.to(device)\n",
    "            y_hat = model(x)\n",
    "            loss = criterion(y_hat, y)\n",
    "            test_loss += loss.detach().cpu().item() / len(test_loader)\n",
    "\n",
    "            correct += torch.sum(torch.argmax(y_hat, dim=1) == y).detach().cpu().item()\n",
    "            total += len(x)\n",
    "        print(f\"Test loss: {test_loss:.2f}\")\n",
    "        print(f\"Test accuracy: {correct / total * 100:.2f}%\")\n",
    "\n",
    "    print('Training complete.')\n",
    "\n",
    "Train()"
   ]
  },
  {
   "cell_type": "markdown",
   "metadata": {},
   "source": [
    "### Describe what you did and discovered here\n",
    "In this cell you should write all the settings tried and performances you obtained. Report what you did and what you discovered from the trials.\n",
    "You can write in Korean and English"
   ]
  },
  {
   "cell_type": "markdown",
   "metadata": {},
   "source": [
    "## Trial 1\n",
    "### Hyperparameters Setting\n",
    "- patch_size : 8\n",
    "- embed_dim : 360\n",
    "- depth : 8\n",
    "- num_heads : 12\n",
    "- mlp_ratio : 4.0\n",
    "\n",
    "### Results\n",
    "- Training time : about 88 min.\n",
    "- Test loss : 0.36\n",
    "- Test accuracy : 86.71%\n",
    "\n",
    "\n",
    "### P.S.\n",
    "Due to the unavailability of GPU (CPU usage) in my local environment, please understand that I am attaching a model that was trained only once with the hyperparameter settings shown in the source code above in the local environment."
   ]
  }
 ],
 "metadata": {
  "kernelspec": {
   "display_name": "AI-24",
   "language": "python",
   "name": "python3"
  },
  "language_info": {
   "codemirror_mode": {
    "name": "ipython",
    "version": 3
   },
   "file_extension": ".py",
   "mimetype": "text/x-python",
   "name": "python",
   "nbconvert_exporter": "python",
   "pygments_lexer": "ipython3",
   "version": "3.10.12"
  }
 },
 "nbformat": 4,
 "nbformat_minor": 4
}
